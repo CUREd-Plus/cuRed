{
 "cells": [
  {
   "cell_type": "markdown",
   "id": "452f50b1-7291-40a6-ae94-c07a5a7ad106",
   "metadata": {},
   "source": [
    "# TOS format parser\n",
    "\n",
    "This is an attempt to get data validation rules from the NHS metadata (the **Technical Output Specification** or TOS.) This is the [Hospital Episode Statistics Data Dictionary\r\n",
    "](https://digital.nhs.uk/data-and-information/data-tools-and-services/data-services/hospital-episode-statistics/hospital-episode-statistics-data-dictionary)."
   ]
  },
  {
   "cell_type": "code",
   "execution_count": 1,
   "id": "be3ca1e6-6d3a-4eac-83ee-54602ec8f26e",
   "metadata": {},
   "outputs": [],
   "source": [
    "# Set Jupyter options\n",
    "%load_ext autoreload\n",
    "%autoreload 2"
   ]
  },
  {
   "cell_type": "code",
   "execution_count": 3,
   "id": "74dd96d6-8688-4625-b45e-2470deed8b34",
   "metadata": {},
   "outputs": [],
   "source": [
    "import os\n",
    "\n",
    "import pandas as pd\n",
    "import yaml\n",
    "\n",
    "from field import Field\n",
    "from rule import Rule"
   ]
  },
  {
   "cell_type": "code",
   "execution_count": 7,
   "id": "1e22672d-6b5d-4906-a689-e7a7fa40a354",
   "metadata": {},
   "outputs": [],
   "source": [
    "tos_path = os.getenv('TOS_PATH', DEFAULT_TOS_PATH)\n",
    "tos_file = pd.ExcelFile(tos_path)"
   ]
  },
  {
   "cell_type": "markdown",
   "id": "a81b080f-947d-4ea8-9eed-44ecdcb67532",
   "metadata": {},
   "source": [
    "Select the tabs we want to work with."
   ]
  },
  {
   "cell_type": "code",
   "execution_count": 8,
   "id": "0d4eb335-812c-46d4-97ce-98f48ad361a6",
   "metadata": {},
   "outputs": [],
   "source": [
    "for sheet_name in {s for s in tos_file.sheet_names if 'CUREd' in s}:\n",
    "    # TODO\n",
    "    pass"
   ]
  },
  {
   "cell_type": "markdown",
   "id": "e10a9ae7-9675-4161-b5c6-9f64017b20c8",
   "metadata": {},
   "source": [
    "Load the TOS into memory"
   ]
  },
  {
   "cell_type": "code",
   "execution_count": 9,
   "id": "82a8c24f-8c2f-4c92-8cb5-3e58a99e9e73",
   "metadata": {},
   "outputs": [
    {
     "name": "stdout",
     "output_type": "stream",
     "text": [
      "<class 'pandas.core.frame.DataFrame'>\n",
      "Index: 379 entries, A_NUMACP to YEAR\n",
      "Data columns (total 12 columns):\n",
      " #   Column                                                                                                                                 Non-Null Count  Dtype \n",
      "---  ------                                                                                                                                 --------------  ----- \n",
      " 0   Field name                                                                                                                             379 non-null    object\n",
      " 1   Format                                                                                                                                 379 non-null    object\n",
      " 2   HES Legacy Field Status (Y/N)                                                                                                          84 non-null     object\n",
      " 3   Availability                                                                                                                           376 non-null    object\n",
      " 4   Restricted field\n",
      "\n",
      "Access to restricted fields requires the approval of the Independent Group Advising on the Release of Data (IGARD).  24 non-null     object\n",
      " 5   Description                                                                                                                            379 non-null    object\n",
      " 6   Values                                                                                                                                 375 non-null    object\n",
      " 7    Cleaning                                                                                                                              102 non-null    object\n",
      " 8   Derivations                                                                                                                            59 non-null     object\n",
      " 9   Table Name                                                                                                                             302 non-null    object\n",
      " 10  Field is Null. See 'Known Data Item Issues'                                                                                            6 non-null      object\n",
      " 11  DQ Issue. See 'Known Data Item Issues'                                                                                                 26 non-null     object\n",
      "dtypes: object(12)\n",
      "memory usage: 38.5+ KB\n"
     ]
    }
   ],
   "source": [
    "tos = pd.read_excel(tos_file, sheet_name='HES APC TOS', index_col='Field', skiprows=1)\n",
    "tos.info()"
   ]
  },
  {
   "cell_type": "markdown",
   "id": "330dc3e7-c26f-4228-b877-fcb70d019031",
   "metadata": {},
   "source": [
    "Build collection of rules from this metadata"
   ]
  },
  {
   "cell_type": "code",
   "execution_count": 47,
   "id": "b853f44c-c404-48df-a305-61f09adfd02f",
   "metadata": {},
   "outputs": [
    {
     "name": "stdout",
     "output_type": "stream",
     "text": [
      "FAE\tNumber\n",
      "1 = Finished Admission Episode\n",
      "0 = All other episodes\n",
      "description: Finished Admission Episode flag is Number\n",
      "expr: is.integer(FAE)\n",
      "name: FAE Number\n",
      "\n"
     ]
    },
    {
     "ename": "NotImplementedError",
     "evalue": "",
     "output_type": "error",
     "traceback": [
      "\u001b[1;31m---------------------------------------------------------------------------\u001b[0m",
      "\u001b[1;31mNotImplementedError\u001b[0m                       Traceback (most recent call last)",
      "Cell \u001b[1;32mIn[47], line 12\u001b[0m\n\u001b[0;32m     10\u001b[0m \u001b[38;5;28mprint\u001b[39m(field, field\u001b[38;5;241m.\u001b[39mformat, sep\u001b[38;5;241m=\u001b[39m\u001b[38;5;124m'\u001b[39m\u001b[38;5;130;01m\\t\u001b[39;00m\u001b[38;5;124m'\u001b[39m)\n\u001b[0;32m     11\u001b[0m \u001b[38;5;28mprint\u001b[39m(field\u001b[38;5;241m.\u001b[39mvalues)\n\u001b[1;32m---> 12\u001b[0m \u001b[38;5;28;01mfor\u001b[39;00m rule \u001b[38;5;129;01min\u001b[39;00m field\u001b[38;5;241m.\u001b[39mgenerate_rules():\n\u001b[0;32m     13\u001b[0m     \u001b[38;5;28mprint\u001b[39m(rule)\n\u001b[0;32m     14\u001b[0m \u001b[38;5;28mprint\u001b[39m(\u001b[38;5;124m'\u001b[39m\u001b[38;5;124m_\u001b[39m\u001b[38;5;124m'\u001b[39m\u001b[38;5;241m*\u001b[39m\u001b[38;5;241m128\u001b[39m)\n",
      "File \u001b[1;32m~\\projects\\cuRed\\scripts\\tos\\field.py:58\u001b[0m, in \u001b[0;36mField.generate_rules\u001b[1;34m(self)\u001b[0m\n\u001b[0;32m     51\u001b[0m     \u001b[38;5;28;01myield\u001b[39;00m Rule(\n\u001b[0;32m     52\u001b[0m         name\u001b[38;5;241m=\u001b[39m\u001b[38;5;124mf\u001b[39m\u001b[38;5;124m\"\u001b[39m\u001b[38;5;132;01m{\u001b[39;00m\u001b[38;5;28mself\u001b[39m\u001b[38;5;132;01m}\u001b[39;00m\u001b[38;5;124m \u001b[39m\u001b[38;5;132;01m{\u001b[39;00m\u001b[38;5;28mself\u001b[39m\u001b[38;5;241m.\u001b[39mformat\u001b[38;5;132;01m}\u001b[39;00m\u001b[38;5;124m\"\u001b[39m,\n\u001b[0;32m     53\u001b[0m         description\u001b[38;5;241m=\u001b[39m\u001b[38;5;124mf\u001b[39m\u001b[38;5;124m\"\u001b[39m\u001b[38;5;132;01m{\u001b[39;00m\u001b[38;5;28mself\u001b[39m\u001b[38;5;241m.\u001b[39mtitle\u001b[38;5;132;01m}\u001b[39;00m\u001b[38;5;124m is \u001b[39m\u001b[38;5;132;01m{\u001b[39;00m\u001b[38;5;28mself\u001b[39m\u001b[38;5;241m.\u001b[39mformat\u001b[38;5;132;01m}\u001b[39;00m\u001b[38;5;124m\"\u001b[39m,\n\u001b[0;32m     54\u001b[0m         expr\u001b[38;5;241m=\u001b[39mexpr\n\u001b[0;32m     55\u001b[0m     )\n\u001b[0;32m     57\u001b[0m \u001b[38;5;66;03m# Generate rules based on the values\u001b[39;00m\n\u001b[1;32m---> 58\u001b[0m \u001b[38;5;28;01mfor\u001b[39;00m expr \u001b[38;5;129;01min\u001b[39;00m \u001b[38;5;28mself\u001b[39m\u001b[38;5;241m.\u001b[39mvalues\u001b[38;5;241m.\u001b[39mgenerate_expressions(field\u001b[38;5;241m=\u001b[39m\u001b[38;5;28mself\u001b[39m\u001b[38;5;241m.\u001b[39mname):\n\u001b[0;32m     59\u001b[0m     \u001b[38;5;28;01myield\u001b[39;00m Rule(\n\u001b[0;32m     60\u001b[0m         name\u001b[38;5;241m=\u001b[39m\u001b[38;5;124m'\u001b[39m\u001b[38;5;124mTODO\u001b[39m\u001b[38;5;124m'\u001b[39m,\n\u001b[0;32m     61\u001b[0m         expr\u001b[38;5;241m=\u001b[39mexpr\n\u001b[0;32m     62\u001b[0m     )\n",
      "File \u001b[1;32m~\\projects\\cuRed\\scripts\\tos\\data_format.py:88\u001b[0m, in \u001b[0;36mValues.generate_expressions\u001b[1;34m(self, field)\u001b[0m\n\u001b[0;32m     86\u001b[0m \u001b[38;5;28;01mdef\u001b[39;00m \u001b[38;5;21mgenerate_expressions\u001b[39m(\u001b[38;5;28mself\u001b[39m, field):\n\u001b[0;32m     87\u001b[0m     \u001b[38;5;66;03m# The first value may be an NHS data model format\u001b[39;00m\n\u001b[1;32m---> 88\u001b[0m     \u001b[38;5;28;01myield from\u001b[39;00m \u001b[38;5;28mself\u001b[39m\u001b[38;5;241m.\u001b[39mnhs_format\u001b[38;5;241m.\u001b[39mgenerate_expressions(field)\n",
      "File \u001b[1;32m~\\projects\\cuRed\\scripts\\tos\\nhs_data_model.py:45\u001b[0m, in \u001b[0;36mNHSFormat.generate_expressions\u001b[1;34m(self, field)\u001b[0m\n\u001b[0;32m     43\u001b[0m \u001b[38;5;28;01mdef\u001b[39;00m \u001b[38;5;21mgenerate_expressions\u001b[39m(\u001b[38;5;28mself\u001b[39m, field: \u001b[38;5;28mstr\u001b[39m):\n\u001b[0;32m     44\u001b[0m     \u001b[38;5;28;01mif\u001b[39;00m \u001b[38;5;28mself\u001b[39m\u001b[38;5;241m.\u001b[39mis_valid(\u001b[38;5;28mself\u001b[39m\u001b[38;5;241m.\u001b[39mformat):\n\u001b[1;32m---> 45\u001b[0m         \u001b[38;5;28;01myield\u001b[39;00m \u001b[38;5;124mf\u001b[39m\u001b[38;5;124m'\u001b[39m\u001b[38;5;124mgrepl(\u001b[39m\u001b[38;5;124m\"\u001b[39m\u001b[38;5;132;01m{\u001b[39;00m\u001b[38;5;28;43mself\u001b[39;49m\u001b[38;5;241;43m.\u001b[39;49m\u001b[43mregex\u001b[49m\u001b[38;5;132;01m}\u001b[39;00m\u001b[38;5;124m\"\u001b[39m\u001b[38;5;124m, \u001b[39m\u001b[38;5;132;01m{\u001b[39;00mfield\u001b[38;5;132;01m}\u001b[39;00m\u001b[38;5;124m)\u001b[39m\u001b[38;5;124m'\u001b[39m\n",
      "File \u001b[1;32m~\\projects\\cuRed\\scripts\\tos\\nhs_data_model.py:49\u001b[0m, in \u001b[0;36mNHSFormat.regex\u001b[1;34m(self)\u001b[0m\n\u001b[0;32m     47\u001b[0m \u001b[38;5;129m@property\u001b[39m\n\u001b[0;32m     48\u001b[0m \u001b[38;5;28;01mdef\u001b[39;00m \u001b[38;5;21mregex\u001b[39m(\u001b[38;5;28mself\u001b[39m):\n\u001b[1;32m---> 49\u001b[0m     \u001b[38;5;28;01mraise\u001b[39;00m \u001b[38;5;167;01mNotImplementedError\u001b[39;00m\n\u001b[0;32m     50\u001b[0m     \u001b[38;5;66;03m# Regular expression representing this field format\u001b[39;00m\n\u001b[0;32m     51\u001b[0m     \u001b[38;5;66;03m# e.g. '$[a-zA-Z0-9]{12}' means 12an\u001b[39;00m\n\u001b[0;32m     52\u001b[0m     \u001b[38;5;28;01mreturn\u001b[39;00m \u001b[38;5;124mf\u001b[39m\u001b[38;5;124m\"\u001b[39m\u001b[38;5;124m$[a-zA-Z0-9]\u001b[39m\u001b[38;5;130;01m{{\u001b[39;00m\u001b[38;5;132;01m{\u001b[39;00m\u001b[38;5;28mself\u001b[39m\u001b[38;5;241m.\u001b[39mlength\u001b[38;5;132;01m}\u001b[39;00m\u001b[38;5;130;01m}}\u001b[39;00m\u001b[38;5;124m\"\u001b[39m\n",
      "\u001b[1;31mNotImplementedError\u001b[0m: "
     ]
    }
   ],
   "source": [
    "for row in tos.sample(5).reset_index().replace(pd.NA, None).to_dict(orient='records'):\n",
    "    field = Field(\n",
    "        name=row['Field'],\n",
    "        title=row['Field name'],\n",
    "        format_=row['Format'],\n",
    "        values=row['Values'],\n",
    "        description=row['Description'],        \n",
    "    )\n",
    "\n",
    "    print(field, field.format, sep='\\t')\n",
    "    print(field.values)\n",
    "    for rule in field.generate_rules():\n",
    "        print(rule)\n",
    "    print('_'*128)"
   ]
  },
  {
   "cell_type": "code",
   "execution_count": 21,
   "id": "c5c4f1fb-7d2e-4cce-86d5-84afee0ee619",
   "metadata": {},
   "outputs": [
    {
     "name": "stdout",
     "output_type": "stream",
     "text": [
      "OACODE01\tString(10)\t10an = 2001 Census Output Area\n",
      "Y = not known\n"
     ]
    },
    {
     "ename": "NotImplementedError",
     "evalue": "",
     "output_type": "error",
     "traceback": [
      "\u001b[1;31m---------------------------------------------------------------------------\u001b[0m",
      "\u001b[1;31mNotImplementedError\u001b[0m                       Traceback (most recent call last)",
      "Cell \u001b[1;32mIn[21], line 12\u001b[0m\n\u001b[0;32m      3\u001b[0m \u001b[38;5;28mprint\u001b[39m(row[\u001b[38;5;124m'\u001b[39m\u001b[38;5;124mField\u001b[39m\u001b[38;5;124m'\u001b[39m], row[\u001b[38;5;124m'\u001b[39m\u001b[38;5;124mFormat\u001b[39m\u001b[38;5;124m'\u001b[39m], row[\u001b[38;5;124m'\u001b[39m\u001b[38;5;124mValues\u001b[39m\u001b[38;5;124m'\u001b[39m], sep\u001b[38;5;241m=\u001b[39m\u001b[38;5;124m'\u001b[39m\u001b[38;5;130;01m\\t\u001b[39;00m\u001b[38;5;124m'\u001b[39m)\n\u001b[0;32m      4\u001b[0m field \u001b[38;5;241m=\u001b[39m Field(\n\u001b[0;32m      5\u001b[0m     name\u001b[38;5;241m=\u001b[39mrow[\u001b[38;5;124m'\u001b[39m\u001b[38;5;124mField\u001b[39m\u001b[38;5;124m'\u001b[39m],\n\u001b[0;32m      6\u001b[0m     title\u001b[38;5;241m=\u001b[39mrow[\u001b[38;5;124m'\u001b[39m\u001b[38;5;124mField name\u001b[39m\u001b[38;5;124m'\u001b[39m],\n\u001b[1;32m   (...)\u001b[0m\n\u001b[0;32m      9\u001b[0m     description\u001b[38;5;241m=\u001b[39mrow[\u001b[38;5;124m'\u001b[39m\u001b[38;5;124mDescription\u001b[39m\u001b[38;5;124m'\u001b[39m],        \n\u001b[0;32m     10\u001b[0m )\n\u001b[1;32m---> 12\u001b[0m \u001b[38;5;28;01mfor\u001b[39;00m rule \u001b[38;5;129;01min\u001b[39;00m field\u001b[38;5;241m.\u001b[39mgenerate_rules():\n\u001b[0;32m     13\u001b[0m     rules\u001b[38;5;241m.\u001b[39mappend(\u001b[38;5;28mdict\u001b[39m(rule))\n\u001b[0;32m     15\u001b[0m \u001b[38;5;28mprint\u001b[39m(\u001b[38;5;124m'\u001b[39m\u001b[38;5;124m____________________\u001b[39m\u001b[38;5;124m'\u001b[39m)\n",
      "File \u001b[1;32m~\\projects\\cuRed\\scripts\\tos\\field.py:59\u001b[0m, in \u001b[0;36mField.generate_rules\u001b[1;34m(self)\u001b[0m\n\u001b[0;32m     52\u001b[0m     \u001b[38;5;28;01myield\u001b[39;00m Rule(\n\u001b[0;32m     53\u001b[0m         name\u001b[38;5;241m=\u001b[39m\u001b[38;5;124mf\u001b[39m\u001b[38;5;124m\"\u001b[39m\u001b[38;5;132;01m{\u001b[39;00m\u001b[38;5;28mself\u001b[39m\u001b[38;5;132;01m}\u001b[39;00m\u001b[38;5;124m \u001b[39m\u001b[38;5;132;01m{\u001b[39;00m\u001b[38;5;28mself\u001b[39m\u001b[38;5;241m.\u001b[39mformat\u001b[38;5;132;01m}\u001b[39;00m\u001b[38;5;124m\"\u001b[39m,\n\u001b[0;32m     54\u001b[0m         description\u001b[38;5;241m=\u001b[39m\u001b[38;5;124mf\u001b[39m\u001b[38;5;124m\"\u001b[39m\u001b[38;5;132;01m{\u001b[39;00m\u001b[38;5;28mself\u001b[39m\u001b[38;5;241m.\u001b[39mtitle\u001b[38;5;132;01m}\u001b[39;00m\u001b[38;5;124m is \u001b[39m\u001b[38;5;132;01m{\u001b[39;00m\u001b[38;5;28mself\u001b[39m\u001b[38;5;241m.\u001b[39mformat\u001b[38;5;132;01m}\u001b[39;00m\u001b[38;5;124m\"\u001b[39m,\n\u001b[0;32m     55\u001b[0m         expr\u001b[38;5;241m=\u001b[39mexpr\n\u001b[0;32m     56\u001b[0m     )\n\u001b[0;32m     58\u001b[0m \u001b[38;5;66;03m# Generate rules based on the values\u001b[39;00m\n\u001b[1;32m---> 59\u001b[0m \u001b[38;5;28;01mfor\u001b[39;00m expr \u001b[38;5;129;01min\u001b[39;00m \u001b[38;5;28mself\u001b[39m\u001b[38;5;241m.\u001b[39mvalues\u001b[38;5;241m.\u001b[39mgenerate_expressions():\n\u001b[0;32m     60\u001b[0m     \u001b[38;5;28;01myield\u001b[39;00m Rule(\n\u001b[0;32m     61\u001b[0m         name\u001b[38;5;241m=\u001b[39m\u001b[38;5;124m'\u001b[39m\u001b[38;5;124mTODO\u001b[39m\u001b[38;5;124m'\u001b[39m,\n\u001b[0;32m     62\u001b[0m         expr\u001b[38;5;241m=\u001b[39mexpr\n\u001b[0;32m     63\u001b[0m     )\n",
      "File \u001b[1;32m~\\projects\\cuRed\\scripts\\tos\\data_format.py:80\u001b[0m, in \u001b[0;36mValues.generate_expressions\u001b[1;34m(self)\u001b[0m\n\u001b[0;32m     78\u001b[0m     \u001b[38;5;28;01mbreak\u001b[39;00m\n\u001b[0;32m     79\u001b[0m nhs_format \u001b[38;5;241m=\u001b[39m NHSFormat(first_value)\n\u001b[1;32m---> 80\u001b[0m \u001b[38;5;28;01myield\u001b[39;00m \u001b[43mnhs_format\u001b[49m\u001b[38;5;241;43m.\u001b[39;49m\u001b[43mexpression\u001b[49m\n",
      "File \u001b[1;32m~\\projects\\cuRed\\scripts\\tos\\nhs_data_model.py:27\u001b[0m, in \u001b[0;36mNHSFormat.expression\u001b[1;34m(self)\u001b[0m\n\u001b[0;32m     25\u001b[0m \u001b[38;5;129m@property\u001b[39m\n\u001b[0;32m     26\u001b[0m \u001b[38;5;28;01mdef\u001b[39;00m \u001b[38;5;21mexpression\u001b[39m(\u001b[38;5;28mself\u001b[39m) \u001b[38;5;241m-\u001b[39m\u001b[38;5;241m>\u001b[39m \u001b[38;5;28mstr\u001b[39m:\n\u001b[1;32m---> 27\u001b[0m     \u001b[38;5;28;01mraise\u001b[39;00m \u001b[38;5;167;01mNotImplementedError\u001b[39;00m\n",
      "\u001b[1;31mNotImplementedError\u001b[0m: "
     ]
    }
   ],
   "source": [
    "rules = list()\n",
    "for row in tos.sample(50).reset_index().replace(pd.NA, None).to_dict(orient='records'):\n",
    "    print(row['Field'], row['Format'], row['Values'], sep='\\t')\n",
    "    field = Field(\n",
    "        name=row['Field'],\n",
    "        title=row['Field name'],\n",
    "        format_=row['Format'],\n",
    "        values=row['Values'],\n",
    "        description=row['Description'],        \n",
    "    )\n",
    "\n",
    "    for rule in field.generate_rules():\n",
    "        rules.append(dict(rule))\n",
    "\n",
    "    print('____________________')"
   ]
  },
  {
   "cell_type": "code",
   "execution_count": 22,
   "id": "fda98e51-0649-4db7-8995-b4fea6ad1693",
   "metadata": {},
   "outputs": [
    {
     "name": "stdout",
     "output_type": "stream",
     "text": [
      "rules:\n",
      "- description: Census Output Area 2001  is String(10)\n",
      "  expr: is.character(OACODE01) & nchar(OACODE01) == 10\n",
      "  name: OACODE01 String(10)\n",
      "\n"
     ]
    }
   ],
   "source": [
    "rules_data = yaml.dump(dict(rules=rules))\n",
    "print(rules_data)\n",
    "\n",
    "with open('rules.yaml', 'w') as file:\n",
    "    file.write(rules_data)"
   ]
  },
  {
   "cell_type": "code",
   "execution_count": null,
   "id": "811aec76-e19a-4c00-9d6d-ba7c43916656",
   "metadata": {},
   "outputs": [],
   "source": []
  }
 ],
 "metadata": {
  "kernelspec": {
   "display_name": "Python 3 (ipykernel)",
   "language": "python",
   "name": "python3"
  },
  "language_info": {
   "codemirror_mode": {
    "name": "ipython",
    "version": 3
   },
   "file_extension": ".py",
   "mimetype": "text/x-python",
   "name": "python",
   "nbconvert_exporter": "python",
   "pygments_lexer": "ipython3",
   "version": "3.11.4"
  }
 },
 "nbformat": 4,
 "nbformat_minor": 5
}
