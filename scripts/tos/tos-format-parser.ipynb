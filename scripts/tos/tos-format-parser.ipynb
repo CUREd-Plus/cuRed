{
 "cells": [
  {
   "cell_type": "markdown",
   "id": "452f50b1-7291-40a6-ae94-c07a5a7ad106",
   "metadata": {},
   "source": [
    "# TOS format parser\n",
    "\n",
    "This is an attempt to get data validation rules from the NHS metadata (the **Technical Output Specification** or TOS.) This is the [Hospital Episode Statistics Data Dictionary\r\n",
    "](https://digital.nhs.uk/data-and-information/data-tools-and-services/data-services/hospital-episode-statistics/hospital-episode-statistics-data-dictionary)."
   ]
  },
  {
   "cell_type": "code",
   "execution_count": 1,
   "id": "be3ca1e6-6d3a-4eac-83ee-54602ec8f26e",
   "metadata": {},
   "outputs": [],
   "source": [
    "# Set Jupyter options\n",
    "%load_ext autoreload\n",
    "%autoreload 2"
   ]
  },
  {
   "cell_type": "code",
   "execution_count": 2,
   "id": "74dd96d6-8688-4625-b45e-2470deed8b34",
   "metadata": {},
   "outputs": [],
   "source": [
    "import os\n",
    "\n",
    "import pandas as pd\n",
    "import yaml\n",
    "\n",
    "from field import Field\n",
    "from rule import Rule"
   ]
  },
  {
   "cell_type": "code",
   "execution_count": 3,
   "id": "3fb48516-37de-4b79-8970-9ce6ffce24f5",
   "metadata": {},
   "outputs": [],
   "source": [
    "# Constants\n",
    "DEFAULT_TOS_PATH = \"https://digital.nhs.uk/binaries/content/assets/website-assets/data-and-information/data-tools-and-services/data-services/hospital-episode-statistics/hes-data-dictionary/hes-tos-v1.15.xlsx\""
   ]
  },
  {
   "cell_type": "code",
   "execution_count": 6,
   "id": "1e22672d-6b5d-4906-a689-e7a7fa40a354",
   "metadata": {},
   "outputs": [],
   "source": [
    "tos_path = os.getenv('TOS_PATH', DEFAULT_TOS_PATH)\n",
    "tos_file = pd.ExcelFile(tos_path)"
   ]
  },
  {
   "cell_type": "markdown",
   "id": "a81b080f-947d-4ea8-9eed-44ecdcb67532",
   "metadata": {},
   "source": [
    "Select the tabs we want to work with."
   ]
  },
  {
   "cell_type": "code",
   "execution_count": 7,
   "id": "0d4eb335-812c-46d4-97ce-98f48ad361a6",
   "metadata": {},
   "outputs": [],
   "source": [
    "for sheet_name in {s for s in tos_file.sheet_names if 'CUREd' in s}:\n",
    "    # TODO\n",
    "    pass"
   ]
  },
  {
   "cell_type": "markdown",
   "id": "e10a9ae7-9675-4161-b5c6-9f64017b20c8",
   "metadata": {},
   "source": [
    "Load the TOS into memory"
   ]
  },
  {
   "cell_type": "code",
   "execution_count": 8,
   "id": "82a8c24f-8c2f-4c92-8cb5-3e58a99e9e73",
   "metadata": {},
   "outputs": [
    {
     "name": "stdout",
     "output_type": "stream",
     "text": [
      "<class 'pandas.core.frame.DataFrame'>\n",
      "Index: 379 entries, A_NUMACP to YEAR\n",
      "Data columns (total 12 columns):\n",
      " #   Column                                                                                                                                 Non-Null Count  Dtype \n",
      "---  ------                                                                                                                                 --------------  ----- \n",
      " 0   Field name                                                                                                                             379 non-null    object\n",
      " 1   Format                                                                                                                                 379 non-null    object\n",
      " 2   HES Legacy Field Status (Y/N)                                                                                                          84 non-null     object\n",
      " 3   Availability                                                                                                                           376 non-null    object\n",
      " 4   Restricted field\n",
      "\n",
      "Access to restricted fields requires the approval of the Independent Group Advising on the Release of Data (IGARD).  24 non-null     object\n",
      " 5   Description                                                                                                                            379 non-null    object\n",
      " 6   Values                                                                                                                                 375 non-null    object\n",
      " 7    Cleaning                                                                                                                              102 non-null    object\n",
      " 8   Derivations                                                                                                                            59 non-null     object\n",
      " 9   Table Name                                                                                                                             302 non-null    object\n",
      " 10  Field is Null. See 'Known Data Item Issues'                                                                                            6 non-null      object\n",
      " 11  DQ Issue. See 'Known Data Item Issues'                                                                                                 26 non-null     object\n",
      "dtypes: object(12)\n",
      "memory usage: 38.5+ KB\n"
     ]
    }
   ],
   "source": [
    "tos = pd.read_excel(tos_file, sheet_name='HES APC TOS', index_col='Field', skiprows=1)\n",
    "tos.info()"
   ]
  },
  {
   "cell_type": "markdown",
   "id": "330dc3e7-c26f-4228-b877-fcb70d019031",
   "metadata": {},
   "source": [
    "Build collection of rules from this metadata"
   ]
  },
  {
   "cell_type": "code",
   "execution_count": 13,
   "id": "c5c4f1fb-7d2e-4cce-86d5-84afee0ee619",
   "metadata": {},
   "outputs": [
    {
     "name": "stdout",
     "output_type": "stream",
     "text": [
      "PROCODET\tString(5)\n",
      "PERSON_MARITAL_STATUS\tString(1)\n",
      "DELCHANG\tString(1)\n",
      "OPERSTAT\tString(1)\n",
      "PEREND\tDate(YYYY-MM-DD)\n",
      "PROVSPNO\tNumber\n",
      "CURRWARD\tString(4)\n",
      "IMD04_DECILE\tString(30)\n",
      "CLASSPAT\tString(1)\n",
      "UCUM_UNIT_OF_MEASUREMENT\tString(10)\n",
      "LEGALGPA\tString(1)\n",
      "DISMETH_UNCLN\tString(1)\n",
      "OPERTN_COUNT\tNumber\n",
      "ACPDQIND_n\tString(1)\n",
      "ELECDUR\tNumber\n",
      "SUSSPELLID\tString(38)\n",
      "SERVICE_CODE\tString(12)\n",
      "ELECDATE\tDate(YYYY-MM-DD)\n",
      "RESRO\tString(3)\n",
      "ACTIVITY_LOCATION_TYPE_CODE\tString(3)\n"
     ]
    }
   ],
   "source": [
    "rules = list()\n",
    "for row in tos.sample(20).reset_index().replace(pd.NA, None).to_dict(orient='records'):\n",
    "    print(row['Field'], row['Format'], sep='\\t')\n",
    "    field = Field(\n",
    "        name=row['Field'],\n",
    "        title=row['Field name'],\n",
    "        format_=row['Format'],\n",
    "        values=row['Values'],\n",
    "        description=row['Description'],        \n",
    "    )\n",
    "\n",
    "    for rule in field.generate_rules():\n",
    "        rules.append(dict(rule))\n"
   ]
  },
  {
   "cell_type": "code",
   "execution_count": 14,
   "id": "fda98e51-0649-4db7-8995-b4fea6ad1693",
   "metadata": {},
   "outputs": [
    {
     "name": "stdout",
     "output_type": "stream",
     "text": [
      "rules:\n",
      "- description: Provider Code of Treatment is String(5)\n",
      "  expr: is.character(PROCODET) & nchar(PROCODET) == 5\n",
      "  name: PROCODET String(5)\n",
      "- description: Person Marital Status is String(1)\n",
      "  expr: is.character(PERSON_MARITAL_STATUS) & nchar(PERSON_MARITAL_STATUS) == 1\n",
      "  name: PERSON_MARITAL_STATUS String(1)\n",
      "- description: Delivery Place Change Reason is String(1)\n",
      "  expr: is.character(DELCHANG) & nchar(DELCHANG) == 1\n",
      "  name: DELCHANG String(1)\n",
      "- description: Operation Status Code is String(1)\n",
      "  expr: is.character(OPERSTAT) & nchar(OPERSTAT) == 1\n",
      "  name: OPERSTAT String(1)\n",
      "- description: Cds Report Period End Date  is Date(YYYY-MM-DD)\n",
      "  expr: grepl(\"^\\d4-([0]\\d|1[0-2])-([0-2]\\d|3[01])$\", PEREND)\n",
      "  name: PEREND Date(YYYY-MM-DD)\n",
      "- description: Hospital Provider Spell Identifier is Number\n",
      "  expr: is.integer(PROVSPNO)\n",
      "  name: PROVSPNO Number\n",
      "- description: Current Electoral Ward is String(4)\n",
      "  expr: is.character(CURRWARD) & nchar(CURRWARD) == 4\n",
      "  name: CURRWARD String(4)\n",
      "- description: IMD Decile Group is String(30)\n",
      "  expr: is.character(IMD04_DECILE) & nchar(IMD04_DECILE) == 30\n",
      "  name: IMD04_DECILE String(30)\n",
      "- description: Patient Classification is String(1)\n",
      "  expr: is.character(CLASSPAT) & nchar(CLASSPAT) == 1\n",
      "  name: CLASSPAT String(1)\n",
      "- description: Ucum Unit Of Measurement is String(10)\n",
      "  expr: is.character(UCUM_UNIT_OF_MEASUREMENT) & nchar(UCUM_UNIT_OF_MEASUREMENT) ==\n",
      "    10\n",
      "  name: UCUM_UNIT_OF_MEASUREMENT String(10)\n",
      "- description: Legal Group of Patient (on Admission) is String(1)\n",
      "  expr: is.character(LEGALGPA) & nchar(LEGALGPA) == 1\n",
      "  name: LEGALGPA String(1)\n",
      "- description: Method of Discharge - Uncleaned is String(1)\n",
      "  expr: is.character(DISMETH_UNCLN) & nchar(DISMETH_UNCLN) == 1\n",
      "  name: DISMETH_UNCLN String(1)\n",
      "- description: Count of Procedures is Number\n",
      "  expr: is.integer(OPERTN_COUNT)\n",
      "  name: OPERTN_COUNT Number\n",
      "- description: Augmented Care Period Data Quality Indicator  is String(1)\n",
      "  expr: is.character(ACPDQIND_n) & nchar(ACPDQIND_n) == 1\n",
      "  name: ACPDQIND_n String(1)\n",
      "- description: Duration of Elective Wait (Derived) is Number\n",
      "  expr: is.integer(ELECDUR)\n",
      "  name: ELECDUR Number\n",
      "- description: SUS Generated Spell Identifier is String(38)\n",
      "  expr: is.character(SUSSPELLID) & nchar(SUSSPELLID) == 38\n",
      "  name: SUSSPELLID String(38)\n",
      "- description: Service Code is String(12)\n",
      "  expr: is.character(SERVICE_CODE) & nchar(SERVICE_CODE) == 12\n",
      "  name: SERVICE_CODE String(12)\n",
      "- description: Date of Decision to Admit  is Date(YYYY-MM-DD)\n",
      "  expr: grepl(\"^\\d4-([0]\\d|1[0-2])-([0-2]\\d|3[01])$\", ELECDATE)\n",
      "  name: ELECDATE Date(YYYY-MM-DD)\n",
      "- description: Regional Office of Residence  is String(3)\n",
      "  expr: is.character(RESRO) & nchar(RESRO) == 3\n",
      "  name: RESRO String(3)\n",
      "- description: Activity Location Type Code is String(3)\n",
      "  expr: is.character(ACTIVITY_LOCATION_TYPE_CODE) & nchar(ACTIVITY_LOCATION_TYPE_CODE)\n",
      "    == 3\n",
      "  name: ACTIVITY_LOCATION_TYPE_CODE String(3)\n",
      "\n"
     ]
    }
   ],
   "source": [
    "print(yaml.dump(dict(rules=rules)))"
   ]
  },
  {
   "cell_type": "code",
   "execution_count": null,
   "id": "811aec76-e19a-4c00-9d6d-ba7c43916656",
   "metadata": {},
   "outputs": [],
   "source": []
  }
 ],
 "metadata": {
  "kernelspec": {
   "display_name": "Python 3 (ipykernel)",
   "language": "python",
   "name": "python3"
  },
  "language_info": {
   "codemirror_mode": {
    "name": "ipython",
    "version": 3
   },
   "file_extension": ".py",
   "mimetype": "text/x-python",
   "name": "python",
   "nbconvert_exporter": "python",
   "pygments_lexer": "ipython3",
   "version": "3.11.4"
  }
 },
 "nbformat": 4,
 "nbformat_minor": 5
}
