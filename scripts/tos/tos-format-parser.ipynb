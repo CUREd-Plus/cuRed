{
 "cells": [
  {
   "cell_type": "markdown",
   "id": "452f50b1-7291-40a6-ae94-c07a5a7ad106",
   "metadata": {},
   "source": [
    "# TOS format parser\n",
    "\n",
    "This is an attempt to get data validation rules from the NHS metadata (the **Technical Output Specification** or TOS.) This is the [Hospital Episode Statistics Data Dictionary\n",
    "](https://digital.nhs.uk/data-and-information/data-tools-and-services/data-services/hospital-episode-statistics/hospital-episode-statistics-data-dictionary)."
   ]
  },
  {
   "cell_type": "code",
   "execution_count": 3,
   "id": "be3ca1e6-6d3a-4eac-83ee-54602ec8f26e",
   "metadata": {
    "ExecuteTime": {
     "end_time": "2023-10-27T08:31:40.441589300Z",
     "start_time": "2023-10-27T08:31:40.345873300Z"
    }
   },
   "outputs": [
    {
     "name": "stdout",
     "output_type": "stream",
     "text": [
      "The autoreload extension is already loaded. To reload it, use:\n",
      "  %reload_ext autoreload\n"
     ]
    }
   ],
   "source": [
    "# Set Jupyter options\n",
    "%load_ext autoreload\n",
    "%autoreload 2"
   ]
  },
  {
   "cell_type": "code",
   "execution_count": 6,
   "id": "74dd96d6-8688-4625-b45e-2470deed8b34",
   "metadata": {
    "ExecuteTime": {
     "end_time": "2023-10-27T08:32:35.187719600Z",
     "start_time": "2023-10-27T08:32:35.114085700Z"
    }
   },
   "outputs": [],
   "source": [
    "import os\n",
    "\n",
    "import pandas as pd\n",
    "import yaml\n",
    "\n",
    "from field import Field\n",
    "from rule import Rule"
   ]
  },
  {
   "cell_type": "code",
   "execution_count": 10,
   "outputs": [],
   "source": [
    "DEFAULT_TOS_PATH = \"https://digital.nhs.uk/binaries/content/assets/website-assets/data-and-information/data-tools-and-services/data-services/hospital-episode-statistics/hes-data-dictionary/hes-tos-v1.15.xlsx\""
   ],
   "metadata": {
    "collapsed": false,
    "ExecuteTime": {
     "end_time": "2023-10-27T08:33:34.071664100Z",
     "start_time": "2023-10-27T08:33:34.007263700Z"
    }
   },
   "id": "5be791b1e8c59a84"
  },
  {
   "cell_type": "code",
   "execution_count": 12,
   "id": "1e22672d-6b5d-4906-a689-e7a7fa40a354",
   "metadata": {
    "ExecuteTime": {
     "end_time": "2023-10-27T08:34:28.356921900Z",
     "start_time": "2023-10-27T08:34:26.482535200Z"
    }
   },
   "outputs": [],
   "source": [
    "tos_path = os.getenv('TOS_PATH', DEFAULT_TOS_PATH)\n",
    "tos_file = pd.ExcelFile(tos_path)"
   ]
  },
  {
   "cell_type": "markdown",
   "id": "a81b080f-947d-4ea8-9eed-44ecdcb67532",
   "metadata": {},
   "source": [
    "Select the tabs we want to work with."
   ]
  },
  {
   "cell_type": "code",
   "execution_count": 13,
   "id": "0d4eb335-812c-46d4-97ce-98f48ad361a6",
   "metadata": {
    "ExecuteTime": {
     "end_time": "2023-10-27T08:34:36.419913400Z",
     "start_time": "2023-10-27T08:34:36.329803900Z"
    }
   },
   "outputs": [],
   "source": [
    "for sheet_name in {s for s in tos_file.sheet_names if 'CUREd' in s}:\n",
    "    # TODO\n",
    "    pass"
   ]
  },
  {
   "cell_type": "markdown",
   "id": "e10a9ae7-9675-4161-b5c6-9f64017b20c8",
   "metadata": {},
   "source": [
    "Load the TOS into memory"
   ]
  },
  {
   "cell_type": "code",
   "execution_count": 14,
   "id": "82a8c24f-8c2f-4c92-8cb5-3e58a99e9e73",
   "metadata": {
    "ExecuteTime": {
     "end_time": "2023-10-27T08:34:50.878449800Z",
     "start_time": "2023-10-27T08:34:37.524202700Z"
    }
   },
   "outputs": [
    {
     "name": "stdout",
     "output_type": "stream",
     "text": [
      "<class 'pandas.core.frame.DataFrame'>\n",
      "Index: 379 entries, A_NUMACP to YEAR\n",
      "Data columns (total 12 columns):\n",
      " #   Column                                                                                                                                 Non-Null Count  Dtype \n",
      "---  ------                                                                                                                                 --------------  ----- \n",
      " 0   Field name                                                                                                                             379 non-null    object\n",
      " 1   Format                                                                                                                                 379 non-null    object\n",
      " 2   HES Legacy Field Status (Y/N)                                                                                                          84 non-null     object\n",
      " 3   Availability                                                                                                                           376 non-null    object\n",
      " 4   Restricted field\n",
      "\n",
      "Access to restricted fields requires the approval of the Independent Group Advising on the Release of Data (IGARD).  24 non-null     object\n",
      " 5   Description                                                                                                                            379 non-null    object\n",
      " 6   Values                                                                                                                                 375 non-null    object\n",
      " 7    Cleaning                                                                                                                              102 non-null    object\n",
      " 8   Derivations                                                                                                                            59 non-null     object\n",
      " 9   Table Name                                                                                                                             302 non-null    object\n",
      " 10  Field is Null. See 'Known Data Item Issues'                                                                                            6 non-null      object\n",
      " 11  DQ Issue. See 'Known Data Item Issues'                                                                                                 26 non-null     object\n",
      "dtypes: object(12)\n",
      "memory usage: 38.5+ KB\n"
     ]
    }
   ],
   "source": [
    "tos = pd.read_excel(tos_file, sheet_name='HES APC TOS', index_col='Field', skiprows=1)\n",
    "tos.info()"
   ]
  },
  {
   "cell_type": "markdown",
   "id": "330dc3e7-c26f-4228-b877-fcb70d019031",
   "metadata": {},
   "source": [
    "Build collection of rules from this metadata"
   ]
  },
  {
   "cell_type": "code",
   "execution_count": 15,
   "id": "b853f44c-c404-48df-a305-61f09adfd02f",
   "metadata": {
    "ExecuteTime": {
     "end_time": "2023-10-27T08:34:51.115267800Z",
     "start_time": "2023-10-27T08:34:50.886445200Z"
    }
   },
   "outputs": [
    {
     "name": "stdout",
     "output_type": "stream",
     "text": [
      "PRESENT_ON_ADMISSION_INDICATOR\tString(1)\n",
      "Y = Patient Diagnosis Already Present\n",
      "N = Patient Diagnosis Not Already Present\n",
      "8 = Not Applicable (Indication Of This Patient Diagnosis On Admission Not Required Nationally)\n",
      "9 = Not Known Where The Patient Diagnosis Was Present On Admission\n",
      "description: Present On Admission Indicator is String(1)\n",
      "expr: is.character(PRESENT_ON_ADMISSION_INDICATOR) & nchar(PRESENT_ON_ADMISSION_INDICATOR)\n",
      "  == 1\n",
      "name: PRESENT_ON_ADMISSION_INDICATOR String(1)\n",
      "\n",
      "________________________________________________________________________________________________________________________________\n",
      "MARSTAT\tString(1)\n",
      "From 1/10/2006 onwards: \n",
      "S = Single  \n",
      "M = Married/Civil Partner  \n",
      "D = Divorced/Person whose Civil Partnership has been dissolved  \n",
      "W = Widowed/Surviving Civil Partner  \n",
      "P = Separated  \n",
      "N = Not disclosed.  \n",
      "8 = Not applicable\n",
      "9 = Not known\n",
      "\n",
      "Prior to 1/10/2006: \n",
      "1 = Single \n",
      "2 = Married, including separated  \n",
      "3 = Divorced  \n",
      "4 = Widowed \n",
      "8 = Not applicable\n",
      "9 = Not known\n",
      "description: Marital Status (Psychiatric) is String(1)\n",
      "expr: is.character(MARSTAT) & nchar(MARSTAT) == 1\n",
      "name: MARSTAT String(1)\n",
      "\n",
      "________________________________________________________________________________________________________________________________\n",
      "SENDER\tString(12)\n",
      "3an to 5an = CDS sender identity\n",
      "description: CDS Sender Identity is String(12)\n",
      "expr: is.character(SENDER) & nchar(SENDER) == 12\n",
      "name: SENDER String(12)\n"
     ]
    },
    {
     "ename": "NotImplementedError",
     "evalue": "",
     "output_type": "error",
     "traceback": [
      "\u001B[1;31m---------------------------------------------------------------------------\u001B[0m",
      "\u001B[1;31mNotImplementedError\u001B[0m                       Traceback (most recent call last)",
      "Cell \u001B[1;32mIn[15], line 12\u001B[0m\n\u001B[0;32m     10\u001B[0m \u001B[38;5;28mprint\u001B[39m(field, field\u001B[38;5;241m.\u001B[39mformat, sep\u001B[38;5;241m=\u001B[39m\u001B[38;5;124m'\u001B[39m\u001B[38;5;130;01m\\t\u001B[39;00m\u001B[38;5;124m'\u001B[39m)\n\u001B[0;32m     11\u001B[0m \u001B[38;5;28mprint\u001B[39m(field\u001B[38;5;241m.\u001B[39mvalues)\n\u001B[1;32m---> 12\u001B[0m \u001B[43m\u001B[49m\u001B[38;5;28;43;01mfor\u001B[39;49;00m\u001B[43m \u001B[49m\u001B[43mrule\u001B[49m\u001B[43m \u001B[49m\u001B[38;5;129;43;01min\u001B[39;49;00m\u001B[43m \u001B[49m\u001B[43mfield\u001B[49m\u001B[38;5;241;43m.\u001B[39;49m\u001B[43mgenerate_rules\u001B[49m\u001B[43m(\u001B[49m\u001B[43m)\u001B[49m\u001B[43m:\u001B[49m\n\u001B[0;32m     13\u001B[0m \u001B[43m    \u001B[49m\u001B[38;5;28;43mprint\u001B[39;49m\u001B[43m(\u001B[49m\u001B[43mrule\u001B[49m\u001B[43m)\u001B[49m\n\u001B[0;32m     14\u001B[0m \u001B[38;5;28mprint\u001B[39m(\u001B[38;5;124m'\u001B[39m\u001B[38;5;124m_\u001B[39m\u001B[38;5;124m'\u001B[39m\u001B[38;5;241m*\u001B[39m\u001B[38;5;241m128\u001B[39m)\n",
      "File \u001B[1;32m~\\projects\\cuRed\\scripts\\tos\\field.py:64\u001B[0m, in \u001B[0;36mField.generate_rules\u001B[1;34m(self)\u001B[0m\n\u001B[0;32m     57\u001B[0m     \u001B[38;5;28;01myield\u001B[39;00m Rule(\n\u001B[0;32m     58\u001B[0m         name\u001B[38;5;241m=\u001B[39m\u001B[38;5;124mf\u001B[39m\u001B[38;5;124m\"\u001B[39m\u001B[38;5;132;01m{\u001B[39;00m\u001B[38;5;28mself\u001B[39m\u001B[38;5;132;01m}\u001B[39;00m\u001B[38;5;124m \u001B[39m\u001B[38;5;132;01m{\u001B[39;00m\u001B[38;5;28mself\u001B[39m\u001B[38;5;241m.\u001B[39mformat\u001B[38;5;132;01m}\u001B[39;00m\u001B[38;5;124m\"\u001B[39m,\n\u001B[0;32m     59\u001B[0m         description\u001B[38;5;241m=\u001B[39m\u001B[38;5;124mf\u001B[39m\u001B[38;5;124m\"\u001B[39m\u001B[38;5;132;01m{\u001B[39;00m\u001B[38;5;28mself\u001B[39m\u001B[38;5;241m.\u001B[39mtitle\u001B[38;5;132;01m}\u001B[39;00m\u001B[38;5;124m is \u001B[39m\u001B[38;5;132;01m{\u001B[39;00m\u001B[38;5;28mself\u001B[39m\u001B[38;5;241m.\u001B[39mformat\u001B[38;5;132;01m}\u001B[39;00m\u001B[38;5;124m\"\u001B[39m,\n\u001B[0;32m     60\u001B[0m         expr\u001B[38;5;241m=\u001B[39mexpr\n\u001B[0;32m     61\u001B[0m     )\n\u001B[0;32m     63\u001B[0m \u001B[38;5;66;03m# Generate rules based on the values\u001B[39;00m\n\u001B[1;32m---> 64\u001B[0m \u001B[43m\u001B[49m\u001B[38;5;28;43;01mfor\u001B[39;49;00m\u001B[43m \u001B[49m\u001B[43mexpr\u001B[49m\u001B[43m \u001B[49m\u001B[38;5;129;43;01min\u001B[39;49;00m\u001B[43m \u001B[49m\u001B[38;5;28;43mself\u001B[39;49m\u001B[38;5;241;43m.\u001B[39;49m\u001B[43mvalues\u001B[49m\u001B[38;5;241;43m.\u001B[39;49m\u001B[43mgenerate_expressions\u001B[49m\u001B[43m(\u001B[49m\u001B[43mfield\u001B[49m\u001B[38;5;241;43m=\u001B[39;49m\u001B[38;5;28;43mself\u001B[39;49m\u001B[38;5;241;43m.\u001B[39;49m\u001B[43mname\u001B[49m\u001B[43m)\u001B[49m\u001B[43m:\u001B[49m\n\u001B[0;32m     65\u001B[0m \u001B[43m    \u001B[49m\u001B[38;5;28;43;01myield\u001B[39;49;00m\u001B[43m \u001B[49m\u001B[43mRule\u001B[49m\u001B[43m(\u001B[49m\n\u001B[0;32m     66\u001B[0m \u001B[43m        \u001B[49m\u001B[43mname\u001B[49m\u001B[38;5;241;43m=\u001B[39;49m\u001B[38;5;124;43m'\u001B[39;49m\u001B[38;5;124;43mTODO\u001B[39;49m\u001B[38;5;124;43m'\u001B[39;49m\u001B[43m,\u001B[49m\n\u001B[0;32m     67\u001B[0m \u001B[43m        \u001B[49m\u001B[43mexpr\u001B[49m\u001B[38;5;241;43m=\u001B[39;49m\u001B[43mexpr\u001B[49m\n\u001B[0;32m     68\u001B[0m \u001B[43m    \u001B[49m\u001B[43m)\u001B[49m\n",
      "File \u001B[1;32m~\\projects\\cuRed\\scripts\\tos\\field_values.py:46\u001B[0m, in \u001B[0;36mValues.generate_expressions\u001B[1;34m(self, field)\u001B[0m\n\u001B[0;32m     44\u001B[0m \u001B[38;5;28;01mdef\u001B[39;00m \u001B[38;5;21mgenerate_expressions\u001B[39m(\u001B[38;5;28mself\u001B[39m, field):\n\u001B[0;32m     45\u001B[0m     \u001B[38;5;66;03m# The first value may be an NHS data model format\u001B[39;00m\n\u001B[1;32m---> 46\u001B[0m     \u001B[38;5;28;01myield from\u001B[39;00m \u001B[38;5;28mself\u001B[39m\u001B[38;5;241m.\u001B[39mnhs_format\u001B[38;5;241m.\u001B[39mgenerate_expressions(field)\n",
      "File \u001B[1;32m~\\projects\\cuRed\\scripts\\tos\\nhs_data_model.py:45\u001B[0m, in \u001B[0;36mNHSFormat.generate_expressions\u001B[1;34m(self, field)\u001B[0m\n\u001B[0;32m     43\u001B[0m \u001B[38;5;28;01mdef\u001B[39;00m \u001B[38;5;21mgenerate_expressions\u001B[39m(\u001B[38;5;28mself\u001B[39m, field: \u001B[38;5;28mstr\u001B[39m):\n\u001B[0;32m     44\u001B[0m     \u001B[38;5;28;01mif\u001B[39;00m \u001B[38;5;28mself\u001B[39m\u001B[38;5;241m.\u001B[39mis_valid(\u001B[38;5;28mself\u001B[39m\u001B[38;5;241m.\u001B[39mformat):\n\u001B[1;32m---> 45\u001B[0m         \u001B[38;5;28;01myield\u001B[39;00m \u001B[38;5;124mf\u001B[39m\u001B[38;5;124m'\u001B[39m\u001B[38;5;124mgrepl(\u001B[39m\u001B[38;5;124m\"\u001B[39m\u001B[38;5;132;01m{\u001B[39;00m\u001B[38;5;28;43mself\u001B[39;49m\u001B[38;5;241;43m.\u001B[39;49m\u001B[43mregex\u001B[49m\u001B[38;5;132;01m}\u001B[39;00m\u001B[38;5;124m\"\u001B[39m\u001B[38;5;124m, \u001B[39m\u001B[38;5;132;01m{\u001B[39;00mfield\u001B[38;5;132;01m}\u001B[39;00m\u001B[38;5;124m)\u001B[39m\u001B[38;5;124m'\u001B[39m\n",
      "File \u001B[1;32m~\\projects\\cuRed\\scripts\\tos\\nhs_data_model.py:49\u001B[0m, in \u001B[0;36mNHSFormat.regex\u001B[1;34m(self)\u001B[0m\n\u001B[0;32m     47\u001B[0m \u001B[38;5;129m@property\u001B[39m\n\u001B[0;32m     48\u001B[0m \u001B[38;5;28;01mdef\u001B[39;00m \u001B[38;5;21mregex\u001B[39m(\u001B[38;5;28mself\u001B[39m):\n\u001B[1;32m---> 49\u001B[0m     \u001B[38;5;28;01mraise\u001B[39;00m \u001B[38;5;167;01mNotImplementedError\u001B[39;00m\n\u001B[0;32m     50\u001B[0m     \u001B[38;5;66;03m# Regular expression representing this field format\u001B[39;00m\n\u001B[0;32m     51\u001B[0m     \u001B[38;5;66;03m# e.g. '$[a-zA-Z0-9]{12}' means 12an\u001B[39;00m\n\u001B[0;32m     52\u001B[0m     \u001B[38;5;28;01mreturn\u001B[39;00m \u001B[38;5;124mf\u001B[39m\u001B[38;5;124m\"\u001B[39m\u001B[38;5;124m$[a-zA-Z0-9]\u001B[39m\u001B[38;5;130;01m{{\u001B[39;00m\u001B[38;5;132;01m{\u001B[39;00m\u001B[38;5;28mself\u001B[39m\u001B[38;5;241m.\u001B[39mlength\u001B[38;5;132;01m}\u001B[39;00m\u001B[38;5;130;01m}}\u001B[39;00m\u001B[38;5;124m\"\u001B[39m\n",
      "\u001B[1;31mNotImplementedError\u001B[0m: "
     ]
    }
   ],
   "source": [
    "for row in tos.sample(5).reset_index().replace(pd.NA, None).to_dict(orient='records'):\n",
    "    field = Field(\n",
    "        name=row['Field'],\n",
    "        title=row['Field name'],\n",
    "        format_=row['Format'],\n",
    "        values=row['Values'],\n",
    "        description=row['Description'],        \n",
    "    )\n",
    "\n",
    "    print(field, field.format, sep='\\t')\n",
    "    print(field.values)\n",
    "    for rule in field.generate_rules():\n",
    "        print(rule)\n",
    "    print('_'*128)"
   ]
  },
  {
   "cell_type": "code",
   "execution_count": null,
   "id": "c5c4f1fb-7d2e-4cce-86d5-84afee0ee619",
   "metadata": {
    "is_executing": true
   },
   "outputs": [],
   "source": [
    "rules = list()\n",
    "for row in tos.sample(50).reset_index().replace(pd.NA, None).to_dict(orient='records'):\n",
    "    print(row['Field'], row['Format'], row['Values'], sep='\\t')\n",
    "    field = Field(\n",
    "        name=row['Field'],\n",
    "        title=row['Field name'],\n",
    "        format_=row['Format'],\n",
    "        values=row['Values'],\n",
    "        description=row['Description'],        \n",
    "    )\n",
    "\n",
    "    for rule in field.generate_rules():\n",
    "        rules.append(dict(rule))\n",
    "\n",
    "    print('____________________')"
   ]
  },
  {
   "cell_type": "code",
   "execution_count": null,
   "id": "fda98e51-0649-4db7-8995-b4fea6ad1693",
   "metadata": {
    "is_executing": true
   },
   "outputs": [],
   "source": [
    "rules_data = yaml.dump(dict(rules=rules))\n",
    "print(rules_data)\n",
    "\n",
    "with open('rules.yaml', 'w') as file:\n",
    "    file.write(rules_data)"
   ]
  },
  {
   "cell_type": "code",
   "execution_count": null,
   "id": "811aec76-e19a-4c00-9d6d-ba7c43916656",
   "metadata": {
    "is_executing": true
   },
   "outputs": [],
   "source": []
  }
 ],
 "metadata": {
  "kernelspec": {
   "display_name": "Python 3 (ipykernel)",
   "language": "python",
   "name": "python3"
  },
  "language_info": {
   "codemirror_mode": {
    "name": "ipython",
    "version": 3
   },
   "file_extension": ".py",
   "mimetype": "text/x-python",
   "name": "python",
   "nbconvert_exporter": "python",
   "pygments_lexer": "ipython3",
   "version": "3.11.4"
  }
 },
 "nbformat": 4,
 "nbformat_minor": 5
}
